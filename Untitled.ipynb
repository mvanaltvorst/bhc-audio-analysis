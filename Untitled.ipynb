{
 "cells": [
  {
   "cell_type": "code",
   "execution_count": 10,
   "id": "1266b91e-ba5f-4ce5-8331-b98be1918ec9",
   "metadata": {},
   "outputs": [],
   "source": [
    "import logging\n",
    "import os\n",
    "import numpy as np\n",
    "import matplotlib.pyplot as plt\n",
    "from scipy.fft import fft, fftfreq\n",
    "import audioread\n",
    "from pydub import AudioSegment\n",
    "from pydub.playback import play\n",
    "from datetime import datetime\n",
    "import warnings\n",
    "from scipy.io.wavfile import write\n",
    "\n",
    "warnings.filterwarnings('ignore')\n",
    "\n",
    "log = logging.getLogger(__name__)\n",
    "log.setLevel(level=logging.INFO)"
   ]
  },
  {
   "cell_type": "code",
   "execution_count": 2,
   "id": "93aacbd1-36ed-4620-9fc0-a32ccb27e1fd",
   "metadata": {},
   "outputs": [],
   "source": [
    "DIRECTORY = \"./data/\"\n"
   ]
  },
  {
   "cell_type": "code",
   "execution_count": 3,
   "id": "a716ec76-0a4e-41b5-9303-e24f012f039d",
   "metadata": {},
   "outputs": [],
   "source": [
    "def get_filenames(directory):\n",
    "    \"\"\"\n",
    "    Get all filenames in directory.\n",
    "\n",
    "    :param directory: The directory to search in.\n",
    "    :return: A list of filenames.\n",
    "    \"\"\"\n",
    "    return sorted([f for f in os.listdir(directory) if os.path.isfile(os.path.join(directory, f))])\n",
    "    \n",
    "def play_filename(filename):\n",
    "    \"\"\"\n",
    "    Play a single .webm file .\n",
    "\n",
    "    :param filename: The filename to play.\n",
    "    \"\"\"\n",
    "    song = AudioSegment.from_file(DIRECTORY + filename)\n",
    "    play(song)\n"
   ]
  },
  {
   "cell_type": "code",
   "execution_count": 4,
   "id": "1a013207-5a1c-4dc6-b06a-3453f9aa15ee",
   "metadata": {},
   "outputs": [],
   "source": [
    "def filename_to_date(filename):\n",
    "    \"\"\"\n",
    "    \n",
    "    Get the date from a filename.\n",
    "\n",
    "    :param filename: The filename to get the date from.\n",
    "    :return: The date from the filename.\n",
    "    \"\"\"\n",
    "    epoch = int(filename.split(\"-\")[-1].split(\".\")[0])\n",
    "    return datetime.fromtimestamp(epoch/1000)"
   ]
  },
  {
   "cell_type": "code",
   "execution_count": 5,
   "id": "8acfc73c",
   "metadata": {},
   "outputs": [],
   "source": [
    "filenames = get_filenames(DIRECTORY)"
   ]
  },
  {
   "cell_type": "code",
   "execution_count": 6,
   "id": "7903f58e",
   "metadata": {},
   "outputs": [],
   "source": [
    "from scipy.signal import butter, lfilter\n",
    "\n",
    "\n",
    "def butter_bandpass(lowcut, highcut, fs, order=5):\n",
    "    nyq = 0.5 * fs\n",
    "    low = lowcut / nyq\n",
    "    high = highcut / nyq\n",
    "    b, a = butter(order, [low, high], btype='band')\n",
    "    return b, a\n",
    "\n",
    "\n",
    "def butter_bandpass_filter(data, lowcut, highcut, fs, order=5):\n",
    "    b, a = butter_bandpass(lowcut, highcut, fs, order=order)\n",
    "    y = lfilter(b, a, data)\n",
    "    return y"
   ]
  },
  {
   "cell_type": "code",
   "execution_count": 33,
   "id": "d2dbe873-5747-4c3b-8d2a-2495f1dc0ac4",
   "metadata": {},
   "outputs": [
    {
     "name": "stdout",
     "output_type": "stream",
     "text": [
      "2 48000\n"
     ]
    },
    {
     "data": {
      "image/png": "[encoded data removed]",
      "text/plain": [
       "<Figure size 432x288 with 1 Axes>"
      ]
     },
     "metadata": {
      "needs_background": "light"
     },
     "output_type": "display_data"
    }
   ],
   "source": [
    "def get_consecutive_audio(sorted_filenames, start_time, end_time):\n",
    "    \"\"\"\n",
    "    Get the audio between two dates.\n",
    "\n",
    "    :param start_time: The start date.\n",
    "    :param end_time: The end date.\n",
    "    :return: A list of audio segments.\n",
    "    \"\"\"\n",
    "    slice_filenames = []\n",
    "    for filename in sorted_filenames:\n",
    "        if filename_to_date(filename) < start_time:\n",
    "            continue\n",
    "        if filename_to_date(filename) > end_time:\n",
    "            break\n",
    "        slice_filenames.append(filename)\n",
    "\n",
    "    BYTES_PER_FILE = 2880000\n",
    "    longbuf = np.zeros(shape=(BYTES_PER_FILE * len(slice_filenames),), dtype=np.float32)\n",
    "\n",
    "    for i, filename in enumerate(slice_filenames):\n",
    "        with audioread.audio_open(DIRECTORY + filename) as f:\n",
    "            print(f.channels, f.samplerate)\n",
    "            for j, buf in enumerate(f):\n",
    "                fmt = '<i2'\n",
    "                out = np.frombuffer(buf, fmt).astype(np.float32)\n",
    "                longbuf[i*BYTES_PER_FILE + j * len(out):i*BYTES_PER_FILE + (j + 1) * len(out)] = out\n",
    "    return longbuf\n",
    "    # print(len(longbuf))\n",
    "\n",
    "    # plt.plot(longbuf)\n",
    "\n",
    "def plot_fft(audio, time=30):\n",
    "    fig, axs = plt.subplots(3, 10, sharex=\"col\", sharey=\"row\", figsize=(20, 10))\n",
    "    for i, second in enumerate(np.array_split(audio, time)):\n",
    "        fft_result = fft(second)\n",
    "        fft_result = fft_result[:len(fft_result)//2] # remove imaginary part\n",
    "        volume = np.average(fft_result)\n",
    "        axs[i // 10, i % 10].plot(fft_result[:len(fft_result)//2])\n",
    "\n",
    "def plot_raw(audio):\n",
    "    plt.plot(audio)\n",
    "\n",
    "def plot_volumes_fft(audio, time=150):\n",
    "    volumes = []\n",
    "    WEIGHTING_CURVE = np.zeros(shape = (9600,), dtype = np.float32)\n",
    "    WEIGHTING_CURVE[700:800] = 1\n",
    "    for i, second in enumerate(np.array_split(audio, time)):\n",
    "        fft_result = fft(second)\n",
    "        fft_result = fft_result[:len(fft_result)//2] # remove imaginary part\n",
    "        # print(len(fft_result))\n",
    "        fft_result *= WEIGHTING_CURVE\n",
    "        volume = np.average(np.abs(fft_result))\n",
    "        volumes.append(volume)\n",
    "    plt.plot(volumes)\n",
    "\n",
    "def plot_volumes_naive(audio):\n",
    "    plt.plot(audio)\n",
    "\n",
    "def plot_volumes_bandpass(audio):\n",
    "    plt.plot(butter_bandpass_filter(audio, 800, 1250, 5000, order = 6))\n",
    "\n",
    "\n",
    "data = get_consecutive_audio(filenames, filename_to_date(filenames[150]), filename_to_date(filenames[150]))\n",
    "# plot_volumes(get_consecutive_audio(filenames, filename_to_date(filenames[162]), filename_to_date(filenames[162])))\n",
    "# plot_volumes_fft(data)\n",
    "plot_volumes_bandpass(data)\n",
    "# play_array(get_consecutive_audio(filenames, filename_to_date(filenames[162]), filename_to_date(filenames[162])))\n",
    "# data = np.random.uniform(-1,1,44100) # 44100 random samples between -1 and 1\n",
    "# scaled = np.int16(data) * 32767\n",
    "# write('test.wav', 48000, scaled)\n",
    "\n",
    "# write('test.wav', 48000, data)"
   ]
  },
  {
   "cell_type": "code",
   "execution_count": 27,
   "id": "cba663b4-f714-45db-9337-b9dd95eb4bcd",
   "metadata": {},
   "outputs": [
    {
     "ename": "KeyboardInterrupt",
     "evalue": "",
     "output_type": "error",
     "traceback": [
      "\u001b[0;31m---------------------------------------------------------------------------\u001b[0m",
      "\u001b[0;31mKeyboardInterrupt\u001b[0m                         Traceback (most recent call last)",
      "\u001b[0;32m<ipython-input-27-0c1fe86bb6c4>\u001b[0m in \u001b[0;36m<module>\u001b[0;34m\u001b[0m\n\u001b[0;32m----> 1\u001b[0;31m \u001b[0mplay_filename\u001b[0m\u001b[0;34m(\u001b[0m\u001b[0mfilenames\u001b[0m\u001b[0;34m[\u001b[0m\u001b[0;36m160\u001b[0m\u001b[0;34m]\u001b[0m\u001b[0;34m)\u001b[0m\u001b[0;34m\u001b[0m\u001b[0;34m\u001b[0m\u001b[0m\n\u001b[0m",
      "\u001b[0;32m<ipython-input-3-60a91db5c2e5>\u001b[0m in \u001b[0;36mplay_filename\u001b[0;34m(filename)\u001b[0m\n\u001b[1;32m     15\u001b[0m     \"\"\"\n\u001b[1;32m     16\u001b[0m     \u001b[0msong\u001b[0m \u001b[0;34m=\u001b[0m \u001b[0mAudioSegment\u001b[0m\u001b[0;34m.\u001b[0m\u001b[0mfrom_file\u001b[0m\u001b[0;34m(\u001b[0m\u001b[0mDIRECTORY\u001b[0m \u001b[0;34m+\u001b[0m \u001b[0mfilename\u001b[0m\u001b[0;34m)\u001b[0m\u001b[0;34m\u001b[0m\u001b[0;34m\u001b[0m\u001b[0m\n\u001b[0;32m---> 17\u001b[0;31m     \u001b[0mplay\u001b[0m\u001b[0;34m(\u001b[0m\u001b[0msong\u001b[0m\u001b[0;34m)\u001b[0m\u001b[0;34m\u001b[0m\u001b[0;34m\u001b[0m\u001b[0m\n\u001b[0m",
      "\u001b[0;32m~/miniforge3/lib/python3.9/site-packages/pydub/playback.py\u001b[0m in \u001b[0;36mplay\u001b[0;34m(audio_segment)\u001b[0m\n\u001b[1;32m     69\u001b[0m         \u001b[0;32mreturn\u001b[0m\u001b[0;34m\u001b[0m\u001b[0;34m\u001b[0m\u001b[0m\n\u001b[1;32m     70\u001b[0m \u001b[0;34m\u001b[0m\u001b[0m\n\u001b[0;32m---> 71\u001b[0;31m     \u001b[0m_play_with_ffplay\u001b[0m\u001b[0;34m(\u001b[0m\u001b[0maudio_segment\u001b[0m\u001b[0;34m)\u001b[0m\u001b[0;34m\u001b[0m\u001b[0;34m\u001b[0m\u001b[0m\n\u001b[0m",
      "\u001b[0;32m~/miniforge3/lib/python3.9/site-packages/pydub/playback.py\u001b[0m in \u001b[0;36m_play_with_ffplay\u001b[0;34m(seg)\u001b[0m\n\u001b[1;32m     14\u001b[0m     \u001b[0;32mwith\u001b[0m \u001b[0mNamedTemporaryFile\u001b[0m\u001b[0;34m(\u001b[0m\u001b[0;34m\"w+b\"\u001b[0m\u001b[0;34m,\u001b[0m \u001b[0msuffix\u001b[0m\u001b[0;34m=\u001b[0m\u001b[0;34m\".wav\"\u001b[0m\u001b[0;34m)\u001b[0m \u001b[0;32mas\u001b[0m \u001b[0mf\u001b[0m\u001b[0;34m:\u001b[0m\u001b[0;34m\u001b[0m\u001b[0;34m\u001b[0m\u001b[0m\n\u001b[1;32m     15\u001b[0m         \u001b[0mseg\u001b[0m\u001b[0;34m.\u001b[0m\u001b[0mexport\u001b[0m\u001b[0;34m(\u001b[0m\u001b[0mf\u001b[0m\u001b[0;34m.\u001b[0m\u001b[0mname\u001b[0m\u001b[0;34m,\u001b[0m \u001b[0;34m\"wav\"\u001b[0m\u001b[0;34m)\u001b[0m\u001b[0;34m\u001b[0m\u001b[0;34m\u001b[0m\u001b[0m\n\u001b[0;32m---> 16\u001b[0;31m         \u001b[0msubprocess\u001b[0m\u001b[0;34m.\u001b[0m\u001b[0mcall\u001b[0m\u001b[0;34m(\u001b[0m\u001b[0;34m[\u001b[0m\u001b[0mPLAYER\u001b[0m\u001b[0;34m,\u001b[0m \u001b[0;34m\"-nodisp\"\u001b[0m\u001b[0;34m,\u001b[0m \u001b[0;34m\"-autoexit\"\u001b[0m\u001b[0;34m,\u001b[0m \u001b[0;34m\"-hide_banner\"\u001b[0m\u001b[0;34m,\u001b[0m \u001b[0mf\u001b[0m\u001b[0;34m.\u001b[0m\u001b[0mname\u001b[0m\u001b[0;34m]\u001b[0m\u001b[0;34m)\u001b[0m\u001b[0;34m\u001b[0m\u001b[0;34m\u001b[0m\u001b[0m\n\u001b[0m\u001b[1;32m     17\u001b[0m \u001b[0;34m\u001b[0m\u001b[0m\n\u001b[1;32m     18\u001b[0m \u001b[0;34m\u001b[0m\u001b[0m\n",
      "\u001b[0;32m~/miniforge3/lib/python3.9/subprocess.py\u001b[0m in \u001b[0;36mcall\u001b[0;34m(timeout, *popenargs, **kwargs)\u001b[0m\n\u001b[1;32m    349\u001b[0m     \u001b[0;32mwith\u001b[0m \u001b[0mPopen\u001b[0m\u001b[0;34m(\u001b[0m\u001b[0;34m*\u001b[0m\u001b[0mpopenargs\u001b[0m\u001b[0;34m,\u001b[0m \u001b[0;34m**\u001b[0m\u001b[0mkwargs\u001b[0m\u001b[0;34m)\u001b[0m \u001b[0;32mas\u001b[0m \u001b[0mp\u001b[0m\u001b[0;34m:\u001b[0m\u001b[0;34m\u001b[0m\u001b[0;34m\u001b[0m\u001b[0m\n\u001b[1;32m    350\u001b[0m         \u001b[0;32mtry\u001b[0m\u001b[0;34m:\u001b[0m\u001b[0;34m\u001b[0m\u001b[0;34m\u001b[0m\u001b[0m\n\u001b[0;32m--> 351\u001b[0;31m             \u001b[0;32mreturn\u001b[0m \u001b[0mp\u001b[0m\u001b[0;34m.\u001b[0m\u001b[0mwait\u001b[0m\u001b[0;34m(\u001b[0m\u001b[0mtimeout\u001b[0m\u001b[0;34m=\u001b[0m\u001b[0mtimeout\u001b[0m\u001b[0;34m)\u001b[0m\u001b[0;34m\u001b[0m\u001b[0;34m\u001b[0m\u001b[0m\n\u001b[0m\u001b[1;32m    352\u001b[0m         \u001b[0;32mexcept\u001b[0m\u001b[0;34m:\u001b[0m  \u001b[0;31m# Including KeyboardInterrupt, wait handled that.\u001b[0m\u001b[0;34m\u001b[0m\u001b[0;34m\u001b[0m\u001b[0m\n\u001b[1;32m    353\u001b[0m             \u001b[0mp\u001b[0m\u001b[0;34m.\u001b[0m\u001b[0mkill\u001b[0m\u001b[0;34m(\u001b[0m\u001b[0;34m)\u001b[0m\u001b[0;34m\u001b[0m\u001b[0;34m\u001b[0m\u001b[0m\n",
      "\u001b[0;32m~/miniforge3/lib/python3.9/subprocess.py\u001b[0m in \u001b[0;36mwait\u001b[0;34m(self, timeout)\u001b[0m\n\u001b[1;32m   1187\u001b[0m             \u001b[0mendtime\u001b[0m \u001b[0;34m=\u001b[0m \u001b[0m_time\u001b[0m\u001b[0;34m(\u001b[0m\u001b[0;34m)\u001b[0m \u001b[0;34m+\u001b[0m \u001b[0mtimeout\u001b[0m\u001b[0;34m\u001b[0m\u001b[0;34m\u001b[0m\u001b[0m\n\u001b[1;32m   1188\u001b[0m         \u001b[0;32mtry\u001b[0m\u001b[0;34m:\u001b[0m\u001b[0;34m\u001b[0m\u001b[0;34m\u001b[0m\u001b[0m\n\u001b[0;32m-> 1189\u001b[0;31m             \u001b[0;32mreturn\u001b[0m \u001b[0mself\u001b[0m\u001b[0;34m.\u001b[0m\u001b[0m_wait\u001b[0m\u001b[0;34m(\u001b[0m\u001b[0mtimeout\u001b[0m\u001b[0;34m=\u001b[0m\u001b[0mtimeout\u001b[0m\u001b[0;34m)\u001b[0m\u001b[0;34m\u001b[0m\u001b[0;34m\u001b[0m\u001b[0m\n\u001b[0m\u001b[1;32m   1190\u001b[0m         \u001b[0;32mexcept\u001b[0m \u001b[0mKeyboardInterrupt\u001b[0m\u001b[0;34m:\u001b[0m\u001b[0;34m\u001b[0m\u001b[0;34m\u001b[0m\u001b[0m\n\u001b[1;32m   1191\u001b[0m             \u001b[0;31m# https://bugs.python.org/issue25942\u001b[0m\u001b[0;34m\u001b[0m\u001b[0;34m\u001b[0m\u001b[0;34m\u001b[0m\u001b[0m\n",
      "\u001b[0;32m~/miniforge3/lib/python3.9/subprocess.py\u001b[0m in \u001b[0;36m_wait\u001b[0;34m(self, timeout)\u001b[0m\n\u001b[1;32m   1917\u001b[0m                         \u001b[0;32mif\u001b[0m \u001b[0mself\u001b[0m\u001b[0;34m.\u001b[0m\u001b[0mreturncode\u001b[0m \u001b[0;32mis\u001b[0m \u001b[0;32mnot\u001b[0m \u001b[0;32mNone\u001b[0m\u001b[0;34m:\u001b[0m\u001b[0;34m\u001b[0m\u001b[0;34m\u001b[0m\u001b[0m\n\u001b[1;32m   1918\u001b[0m                             \u001b[0;32mbreak\u001b[0m  \u001b[0;31m# Another thread waited.\u001b[0m\u001b[0;34m\u001b[0m\u001b[0;34m\u001b[0m\u001b[0m\n\u001b[0;32m-> 1919\u001b[0;31m                         \u001b[0;34m(\u001b[0m\u001b[0mpid\u001b[0m\u001b[0;34m,\u001b[0m \u001b[0msts\u001b[0m\u001b[0;34m)\u001b[0m \u001b[0;34m=\u001b[0m \u001b[0mself\u001b[0m\u001b[0;34m.\u001b[0m\u001b[0m_try_wait\u001b[0m\u001b[0;34m(\u001b[0m\u001b[0;36m0\u001b[0m\u001b[0;34m)\u001b[0m\u001b[0;34m\u001b[0m\u001b[0;34m\u001b[0m\u001b[0m\n\u001b[0m\u001b[1;32m   1920\u001b[0m                         \u001b[0;31m# Check the pid and loop as waitpid has been known to\u001b[0m\u001b[0;34m\u001b[0m\u001b[0;34m\u001b[0m\u001b[0;34m\u001b[0m\u001b[0m\n\u001b[1;32m   1921\u001b[0m                         \u001b[0;31m# return 0 even without WNOHANG in odd situations.\u001b[0m\u001b[0;34m\u001b[0m\u001b[0;34m\u001b[0m\u001b[0;34m\u001b[0m\u001b[0m\n",
      "\u001b[0;32m~/miniforge3/lib/python3.9/subprocess.py\u001b[0m in \u001b[0;36m_try_wait\u001b[0;34m(self, wait_flags)\u001b[0m\n\u001b[1;32m   1875\u001b[0m             \u001b[0;34m\"\"\"All callers to this function MUST hold self._waitpid_lock.\"\"\"\u001b[0m\u001b[0;34m\u001b[0m\u001b[0;34m\u001b[0m\u001b[0m\n\u001b[1;32m   1876\u001b[0m             \u001b[0;32mtry\u001b[0m\u001b[0;34m:\u001b[0m\u001b[0;34m\u001b[0m\u001b[0;34m\u001b[0m\u001b[0m\n\u001b[0;32m-> 1877\u001b[0;31m                 \u001b[0;34m(\u001b[0m\u001b[0mpid\u001b[0m\u001b[0;34m,\u001b[0m \u001b[0msts\u001b[0m\u001b[0;34m)\u001b[0m \u001b[0;34m=\u001b[0m \u001b[0mos\u001b[0m\u001b[0;34m.\u001b[0m\u001b[0mwaitpid\u001b[0m\u001b[0;34m(\u001b[0m\u001b[0mself\u001b[0m\u001b[0;34m.\u001b[0m\u001b[0mpid\u001b[0m\u001b[0;34m,\u001b[0m \u001b[0mwait_flags\u001b[0m\u001b[0;34m)\u001b[0m\u001b[0;34m\u001b[0m\u001b[0;34m\u001b[0m\u001b[0m\n\u001b[0m\u001b[1;32m   1878\u001b[0m             \u001b[0;32mexcept\u001b[0m \u001b[0mChildProcessError\u001b[0m\u001b[0;34m:\u001b[0m\u001b[0;34m\u001b[0m\u001b[0;34m\u001b[0m\u001b[0m\n\u001b[1;32m   1879\u001b[0m                 \u001b[0;31m# This happens if SIGCLD is set to be ignored or waiting\u001b[0m\u001b[0;34m\u001b[0m\u001b[0;34m\u001b[0m\u001b[0;34m\u001b[0m\u001b[0m\n",
      "\u001b[0;31mKeyboardInterrupt\u001b[0m: "
     ]
    }
   ],
   "source": [
    "play_filename(filenames[160])"
   ]
  },
  {
   "cell_type": "code",
   "execution_count": null,
   "id": "457067c1-715f-48ce-8280-cc49f778a71c",
   "metadata": {},
   "outputs": [],
   "source": []
  },
  {
   "cell_type": "code",
   "execution_count": null,
   "id": "0387ef79",
   "metadata": {},
   "outputs": [],
   "source": []
  }
 ],
 "metadata": {
  "kernelspec": {
   "display_name": "Python 3",
   "language": "python",
   "name": "python3"
  },
  "language_info": {
   "codemirror_mode": {
    "name": "ipython",
    "version": 3
   },
   "file_extension": ".py",
   "mimetype": "text/x-python",
   "name": "python",
   "nbconvert_exporter": "python",
   "pygments_lexer": "ipython3",
   "version": "3.9.2"
  }
 },
 "nbformat": 4,
 "nbformat_minor": 5
}
